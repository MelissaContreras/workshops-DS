{
 "cells": [
  {
   "cell_type": "code",
   "execution_count": 12,
   "metadata": {},
   "outputs": [],
   "source": [
    "from sklearn.datasets import load_iris\n",
    "import pandas as pd\n",
    "import numpy as np\n",
    "from sklearn.model_selection import GridSearchCV\n",
    "from sklearn.tree import DecisionTreeClassifier\n",
    "from sklearn.neighbors import KNeighborsClassifier\n",
    "from joblib import dump, load"
   ]
  },
  {
   "cell_type": "markdown",
   "metadata": {},
   "source": [
    "Se utilizará el dataset de Iris"
   ]
  },
  {
   "cell_type": "code",
   "execution_count": 22,
   "metadata": {},
   "outputs": [],
   "source": [
    "# Separamos features y target\n",
    "\n",
    "iris = load_iris()\n",
    "X = iris.data\n",
    "y = iris.target"
   ]
  },
  {
   "cell_type": "code",
   "execution_count": 24,
   "metadata": {},
   "outputs": [
    {
     "data": {
      "text/plain": [
       "array(['setosa', 'versicolor', 'virginica'], dtype='<U10')"
      ]
     },
     "execution_count": 24,
     "metadata": {},
     "output_type": "execute_result"
    }
   ],
   "source": [
    "iris.target_names"
   ]
  },
  {
   "cell_type": "markdown",
   "metadata": {},
   "source": [
    "Se busca a través de GridSearch, los mejores parámetros para nuestro modelo. Implementaremos dos algoritmos de clasificación"
   ]
  },
  {
   "cell_type": "code",
   "execution_count": 58,
   "metadata": {},
   "outputs": [
    {
     "data": {
      "text/plain": [
       "{'n_neighbors': 6}"
      ]
     },
     "execution_count": 58,
     "metadata": {},
     "output_type": "execute_result"
    }
   ],
   "source": [
    "# Decission Tree Classifier\n",
    "\n",
    "tree_param = {'criterion':['gini','entropy'],'max_depth':[3,4,5,6,7,8,9,10,15,20]}\n",
    "tree_model = GridSearchCV(DecisionTreeClassifier(), param_grid=tree_param, cv=5, scoring='accuracy')\n",
    "tree_model.fit(X,y)\n",
    "tree_model.best_params_ \n",
    "\n",
    "# K-Nearest Neighbors\n",
    "kneighbors_param = {'n_neighbors':[1,2,3,4,5,6,7,8,9,10,15]}\n",
    "kneighbors_model = GridSearchCV(KNeighborsClassifier(), param_grid=kneighbors_param, cv=5, scoring='accuracy')\n",
    "kneighbors_model.fit(X,y)\n",
    "kneighbors_model.best_params_\n"
   ]
  },
  {
   "cell_type": "markdown",
   "metadata": {},
   "source": [
    "Se almacena el mejor modelo, según el entrenamiento ya efectuado, en un archivo .py para su futura implementación. El objetivo es predecir nuevas instancias"
   ]
  },
  {
   "cell_type": "code",
   "execution_count": 53,
   "metadata": {},
   "outputs": [
    {
     "data": {
      "text/plain": [
       "['kneighbors_model.py']"
      ]
     },
     "execution_count": 53,
     "metadata": {},
     "output_type": "execute_result"
    }
   ],
   "source": [
    "final_model_tree = tree_model.best_estimator_\n",
    "dump(final_model_tree, filename='tree_model.py')\n",
    "\n",
    "final_model_kn = kneighbors_model.best_estimator_\n",
    "dump(final_model_kn, filename='kneighbors_model.py')"
   ]
  }
 ],
 "metadata": {
  "kernelspec": {
   "display_name": "Python 3.10.5 64-bit",
   "language": "python",
   "name": "python3"
  },
  "language_info": {
   "codemirror_mode": {
    "name": "ipython",
    "version": 3
   },
   "file_extension": ".py",
   "mimetype": "text/x-python",
   "name": "python",
   "nbconvert_exporter": "python",
   "pygments_lexer": "ipython3",
   "version": "3.10.5"
  },
  "orig_nbformat": 4,
  "vscode": {
   "interpreter": {
    "hash": "c63d8c7d738c2960218a10995aedf0a7f67a49a231e71037adf0440953cdb45b"
   }
  }
 },
 "nbformat": 4,
 "nbformat_minor": 2
}
